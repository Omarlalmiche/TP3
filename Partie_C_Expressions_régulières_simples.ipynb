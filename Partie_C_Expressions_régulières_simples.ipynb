{
  "nbformat": 4,
  "nbformat_minor": 0,
  "metadata": {
    "colab": {
      "provenance": []
    },
    "kernelspec": {
      "name": "python3",
      "display_name": "Python 3"
    },
    "language_info": {
      "name": "python"
    }
  },
  "cells": [
    {
      "cell_type": "code",
      "execution_count": null,
      "metadata": {
        "colab": {
          "base_uri": "https://localhost:8080/"
        },
        "id": "LhzNjBTzJ1AA",
        "outputId": "049d9604-5555-4351-b313-e431f2dd992e"
      },
      "outputs": [
        {
          "output_type": "stream",
          "name": "stdout",
          "text": [
            "✅ Fichier sample_text.txt créé avec succès !\n"
          ]
        }
      ],
      "source": [
        "# 📄 Création du fichier sample_text.txt\n",
        "sample_text = \"\"\"\n",
        "Bonjour, voici quelques contacts et liens pour tests :\n",
        "\n",
        "Emails :\n",
        "- omar.lalmiche@gmail.com\n",
        "- test.user123@yahoo.fr\n",
        "\n",
        "Téléphones :\n",
        "- +33 6 12 34 56 78\n",
        "- 0612345678\n",
        "- 0033 7 89 01 23 45\n",
        "\n",
        "URLs :\n",
        "- https://www.example.com\n",
        "- http://test-site.org\n",
        "- www.monsite.net\n",
        "\"\"\"\n",
        "\n",
        "# Écriture dans un fichier texte\n",
        "with open(\"sample_text.txt\", \"w\", encoding=\"utf-8\") as f:\n",
        "    f.write(sample_text)\n",
        "\n",
        "print(\"✅ Fichier sample_text.txt créé avec succès !\")\n"
      ]
    },
    {
      "cell_type": "code",
      "source": [
        "import re\n",
        "\n",
        "# Lecture du fichier\n",
        "with open(\"sample_text.txt\", \"r\", encoding=\"utf-8\") as f:\n",
        "    text = f.read()\n",
        "\n",
        "# Regex pour emails\n",
        "email_pattern = r\"[a-zA-Z0-9_.+-]+@[a-zA-Z0-9-]+\\.[a-zA-Z0-9-.]+\"\n",
        "emails = re.findall(email_pattern, text)\n",
        "print(\"📧 Emails trouvés :\", emails)\n",
        "\n",
        "# Regex pour téléphones (France, formats simples)\n",
        "phone_pattern = r\"(?:\\+33\\s?|0)[67](?:\\s?\\d{2}){4}\"\n",
        "phones = re.findall(phone_pattern, text)\n",
        "print(\"📞 Téléphones trouvés :\", phones)\n",
        "\n",
        "# Regex pour URLs\n",
        "url_pattern = r\"(https?://[^\\s]+|www\\.[^\\s]+)\"\n",
        "urls = re.findall(url_pattern, text)\n",
        "print(\"🌐 URLs trouvées :\", urls)\n"
      ],
      "metadata": {
        "id": "M4jZ2SDvKraA",
        "outputId": "29ba457f-be1a-4e9d-feab-0e2606cfc1dd",
        "colab": {
          "base_uri": "https://localhost:8080/"
        }
      },
      "execution_count": null,
      "outputs": [
        {
          "output_type": "stream",
          "name": "stdout",
          "text": [
            "📧 Emails trouvés : ['omar.lalmiche@gmail.com', 'test.user123@yahoo.fr']\n",
            "📞 Téléphones trouvés : ['+33 6 12 34 56 78', '0612345678']\n",
            "🌐 URLs trouvées : ['https://www.example.com', 'http://test-site.org', 'www.monsite.net']\n"
          ]
        }
      ]
    },
    {
      "cell_type": "code",
      "source": [
        "# Exemple de test direct\n",
        "test_emails = [\"omar@gmail.com\", \"invalid_email@\", \"user.name@domain.org\"]\n",
        "for e in test_emails:\n",
        "    print(e, \"->\", bool(re.fullmatch(email_pattern, e)))\n",
        "\n",
        "test_phones = [\"0612345678\", \"+33 6 12 34 56 78\", \"12345\"]\n",
        "for p in test_phones:\n",
        "    print(p, \"->\", bool(re.fullmatch(phone_pattern, p)))\n",
        "\n",
        "test_urls = [\"https://example.com\", \"http://test-site.org\", \"not_a_url\"]\n",
        "for u in test_urls:\n",
        "    print(u, \"->\", bool(re.fullmatch(url_pattern, u)))\n"
      ],
      "metadata": {
        "id": "oh-lW2tcKt-y",
        "outputId": "6841e47e-02df-4e75-ba7f-893d751c35ae",
        "colab": {
          "base_uri": "https://localhost:8080/"
        }
      },
      "execution_count": null,
      "outputs": [
        {
          "output_type": "stream",
          "name": "stdout",
          "text": [
            "omar@gmail.com -> True\n",
            "invalid_email@ -> False\n",
            "user.name@domain.org -> True\n",
            "0612345678 -> True\n",
            "+33 6 12 34 56 78 -> True\n",
            "12345 -> False\n",
            "https://example.com -> True\n",
            "http://test-site.org -> True\n",
            "not_a_url -> False\n"
          ]
        }
      ]
    }
  ]
}